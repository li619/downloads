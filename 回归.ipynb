{
 "cells": [
  {
   "cell_type": "code",
   "execution_count": 1,
   "id": "aea83f98",
   "metadata": {
    "ExecuteTime": {
     "end_time": "2024-05-10T09:14:16.847363900Z",
     "start_time": "2024-05-10T09:14:16.836511900Z"
    }
   },
   "outputs": [],
   "source": [
    "import pandas as pd"
   ]
  },
  {
   "cell_type": "code",
   "execution_count": 2,
   "id": "880a76d7",
   "metadata": {
    "ExecuteTime": {
     "end_time": "2024-05-10T09:14:16.879517600Z",
     "start_time": "2024-05-10T09:14:16.843371500Z"
    }
   },
   "outputs": [
    {
     "data": {
      "text/plain": "     ﻿省份          时间   累计确诊  新增确诊   现有确诊   累计治愈  新增治愈  累计死亡  新增死亡  新增无症状  \\\n0     广东  2022/12/20  62367  1189  10000  52359   993     8     0      0   \n1     广东  2022/12/19  61178  1111   9804  51366   917     8     0      0   \n2     广东  2022/12/18  60067   502   9610  50449   568     8     0      0   \n3     广东  2022/12/17  59565   932   9676  49881   789     8     0      0   \n4     广东  2022/12/16  58633  1003   9533  49092   837     8     0      0   \n...   ..         ...    ...   ...    ...    ...   ...   ...   ...    ...   \n1062  广东   2020/1/23     53    21     51      2     2     0     0      0   \n1063  广东   2020/1/22     32     6     32      0     0     0     0      0   \n1064  广东   2020/1/21     26    12     26      0     0     0     0      0   \n1065  广东   2020/1/20     14    13     14      0     0     0     0      0   \n1066  广东   2020/1/19      1     0      1      0     0     0     0      0   \n\n      新增本土确诊  \n0       1171  \n1       1075  \n2        846  \n3        915  \n4        990  \n...      ...  \n1062       0  \n1063       0  \n1064       0  \n1065       0  \n1066       0  \n\n[1067 rows x 11 columns]",
      "text/html": "<div>\n<style scoped>\n    .dataframe tbody tr th:only-of-type {\n        vertical-align: middle;\n    }\n\n    .dataframe tbody tr th {\n        vertical-align: top;\n    }\n\n    .dataframe thead th {\n        text-align: right;\n    }\n</style>\n<table border=\"1\" class=\"dataframe\">\n  <thead>\n    <tr style=\"text-align: right;\">\n      <th></th>\n      <th>﻿省份</th>\n      <th>时间</th>\n      <th>累计确诊</th>\n      <th>新增确诊</th>\n      <th>现有确诊</th>\n      <th>累计治愈</th>\n      <th>新增治愈</th>\n      <th>累计死亡</th>\n      <th>新增死亡</th>\n      <th>新增无症状</th>\n      <th>新增本土确诊</th>\n    </tr>\n  </thead>\n  <tbody>\n    <tr>\n      <th>0</th>\n      <td>广东</td>\n      <td>2022/12/20</td>\n      <td>62367</td>\n      <td>1189</td>\n      <td>10000</td>\n      <td>52359</td>\n      <td>993</td>\n      <td>8</td>\n      <td>0</td>\n      <td>0</td>\n      <td>1171</td>\n    </tr>\n    <tr>\n      <th>1</th>\n      <td>广东</td>\n      <td>2022/12/19</td>\n      <td>61178</td>\n      <td>1111</td>\n      <td>9804</td>\n      <td>51366</td>\n      <td>917</td>\n      <td>8</td>\n      <td>0</td>\n      <td>0</td>\n      <td>1075</td>\n    </tr>\n    <tr>\n      <th>2</th>\n      <td>广东</td>\n      <td>2022/12/18</td>\n      <td>60067</td>\n      <td>502</td>\n      <td>9610</td>\n      <td>50449</td>\n      <td>568</td>\n      <td>8</td>\n      <td>0</td>\n      <td>0</td>\n      <td>846</td>\n    </tr>\n    <tr>\n      <th>3</th>\n      <td>广东</td>\n      <td>2022/12/17</td>\n      <td>59565</td>\n      <td>932</td>\n      <td>9676</td>\n      <td>49881</td>\n      <td>789</td>\n      <td>8</td>\n      <td>0</td>\n      <td>0</td>\n      <td>915</td>\n    </tr>\n    <tr>\n      <th>4</th>\n      <td>广东</td>\n      <td>2022/12/16</td>\n      <td>58633</td>\n      <td>1003</td>\n      <td>9533</td>\n      <td>49092</td>\n      <td>837</td>\n      <td>8</td>\n      <td>0</td>\n      <td>0</td>\n      <td>990</td>\n    </tr>\n    <tr>\n      <th>...</th>\n      <td>...</td>\n      <td>...</td>\n      <td>...</td>\n      <td>...</td>\n      <td>...</td>\n      <td>...</td>\n      <td>...</td>\n      <td>...</td>\n      <td>...</td>\n      <td>...</td>\n      <td>...</td>\n    </tr>\n    <tr>\n      <th>1062</th>\n      <td>广东</td>\n      <td>2020/1/23</td>\n      <td>53</td>\n      <td>21</td>\n      <td>51</td>\n      <td>2</td>\n      <td>2</td>\n      <td>0</td>\n      <td>0</td>\n      <td>0</td>\n      <td>0</td>\n    </tr>\n    <tr>\n      <th>1063</th>\n      <td>广东</td>\n      <td>2020/1/22</td>\n      <td>32</td>\n      <td>6</td>\n      <td>32</td>\n      <td>0</td>\n      <td>0</td>\n      <td>0</td>\n      <td>0</td>\n      <td>0</td>\n      <td>0</td>\n    </tr>\n    <tr>\n      <th>1064</th>\n      <td>广东</td>\n      <td>2020/1/21</td>\n      <td>26</td>\n      <td>12</td>\n      <td>26</td>\n      <td>0</td>\n      <td>0</td>\n      <td>0</td>\n      <td>0</td>\n      <td>0</td>\n      <td>0</td>\n    </tr>\n    <tr>\n      <th>1065</th>\n      <td>广东</td>\n      <td>2020/1/20</td>\n      <td>14</td>\n      <td>13</td>\n      <td>14</td>\n      <td>0</td>\n      <td>0</td>\n      <td>0</td>\n      <td>0</td>\n      <td>0</td>\n      <td>0</td>\n    </tr>\n    <tr>\n      <th>1066</th>\n      <td>广东</td>\n      <td>2020/1/19</td>\n      <td>1</td>\n      <td>0</td>\n      <td>1</td>\n      <td>0</td>\n      <td>0</td>\n      <td>0</td>\n      <td>0</td>\n      <td>0</td>\n      <td>0</td>\n    </tr>\n  </tbody>\n</table>\n<p>1067 rows × 11 columns</p>\n</div>"
     },
     "execution_count": 2,
     "metadata": {},
     "output_type": "execute_result"
    }
   ],
   "source": [
    "data=pd.read_csv('广东.csv')\n",
    "data"
   ]
  },
  {
   "cell_type": "markdown",
   "id": "019e54c8",
   "metadata": {},
   "source": [
    "查询缺失值"
   ]
  },
  {
   "cell_type": "code",
   "execution_count": 3,
   "id": "718114b0",
   "metadata": {
    "ExecuteTime": {
     "end_time": "2024-05-10T09:14:16.883498700Z",
     "start_time": "2024-05-10T09:14:16.875580900Z"
    }
   },
   "outputs": [
    {
     "data": {
      "text/plain": "﻿省份       0\n时间        0\n累计确诊      0\n新增确诊      0\n现有确诊      0\n累计治愈      0\n新增治愈      0\n累计死亡      0\n新增死亡      0\n新增无症状     0\n新增本土确诊    0\ndtype: int64"
     },
     "execution_count": 3,
     "metadata": {},
     "output_type": "execute_result"
    }
   ],
   "source": [
    "data.isnull().sum()"
   ]
  },
  {
   "cell_type": "code",
   "execution_count": 4,
   "id": "2aa6269b",
   "metadata": {
    "ExecuteTime": {
     "end_time": "2024-05-10T09:14:16.932568100Z",
     "start_time": "2024-05-10T09:14:16.885490200Z"
    }
   },
   "outputs": [
    {
     "name": "stdout",
     "output_type": "stream",
     "text": [
      "<class 'pandas.core.frame.DataFrame'>\n",
      "RangeIndex: 1067 entries, 0 to 1066\n",
      "Data columns (total 11 columns):\n",
      " #   Column  Non-Null Count  Dtype \n",
      "---  ------  --------------  ----- \n",
      " 0   ﻿省份     1067 non-null   object\n",
      " 1   时间      1067 non-null   object\n",
      " 2   累计确诊    1067 non-null   int64 \n",
      " 3   新增确诊    1067 non-null   int64 \n",
      " 4   现有确诊    1067 non-null   int64 \n",
      " 5   累计治愈    1067 non-null   int64 \n",
      " 6   新增治愈    1067 non-null   int64 \n",
      " 7   累计死亡    1067 non-null   int64 \n",
      " 8   新增死亡    1067 non-null   int64 \n",
      " 9   新增无症状   1067 non-null   int64 \n",
      " 10  新增本土确诊  1067 non-null   int64 \n",
      "dtypes: int64(9), object(2)\n",
      "memory usage: 91.8+ KB\n"
     ]
    }
   ],
   "source": [
    "data.info()"
   ]
  },
  {
   "cell_type": "markdown",
   "id": "9c0b3891",
   "metadata": {},
   "source": [
    "相关性"
   ]
  },
  {
   "cell_type": "code",
   "execution_count": 5,
   "id": "39f9aed1",
   "metadata": {
    "ExecuteTime": {
     "end_time": "2024-05-10T09:14:18.258714100Z",
     "start_time": "2024-05-10T09:14:16.900675300Z"
    }
   },
   "outputs": [
    {
     "ename": "ValueError",
     "evalue": "could not convert string to float: '广东'",
     "output_type": "error",
     "traceback": [
      "\u001B[1;31m---------------------------------------------------------------------------\u001B[0m",
      "\u001B[1;31mValueError\u001B[0m                                Traceback (most recent call last)",
      "Cell \u001B[1;32mIn[5], line 6\u001B[0m\n\u001B[0;32m      3\u001B[0m \u001B[38;5;28;01mimport\u001B[39;00m \u001B[38;5;21;01mseaborn\u001B[39;00m \u001B[38;5;28;01mas\u001B[39;00m \u001B[38;5;21;01msns\u001B[39;00m\n\u001B[0;32m      5\u001B[0m \u001B[38;5;66;03m# 计算相关系数矩阵，包含了任意两个菜品间的相关系数\u001B[39;00m\n\u001B[1;32m----> 6\u001B[0m \u001B[38;5;28mprint\u001B[39m(\u001B[38;5;124m'\u001B[39m\u001B[38;5;124m相关系数矩阵为：\u001B[39m\u001B[38;5;130;01m\\n\u001B[39;00m\u001B[38;5;124m'\u001B[39m, \u001B[43mdata\u001B[49m\u001B[38;5;241;43m.\u001B[39;49m\u001B[43mcorr\u001B[49m\u001B[43m(\u001B[49m\u001B[43m)\u001B[49m)\n\u001B[0;32m      8\u001B[0m \u001B[38;5;66;03m# 绘制相关性热力图\u001B[39;00m\n\u001B[0;32m      9\u001B[0m plt\u001B[38;5;241m.\u001B[39msubplots(figsize\u001B[38;5;241m=\u001B[39m(\u001B[38;5;241m8\u001B[39m, \u001B[38;5;241m8\u001B[39m))  \u001B[38;5;66;03m# 设置画面大小 \u001B[39;00m\n",
      "File \u001B[1;32m~\\AppData\\Local\\Packages\\PythonSoftwareFoundation.Python.3.12_qbz5n2kfra8p0\\LocalCache\\local-packages\\Python312\\site-packages\\pandas\\core\\frame.py:11049\u001B[0m, in \u001B[0;36mDataFrame.corr\u001B[1;34m(self, method, min_periods, numeric_only)\u001B[0m\n\u001B[0;32m  11047\u001B[0m cols \u001B[38;5;241m=\u001B[39m data\u001B[38;5;241m.\u001B[39mcolumns\n\u001B[0;32m  11048\u001B[0m idx \u001B[38;5;241m=\u001B[39m cols\u001B[38;5;241m.\u001B[39mcopy()\n\u001B[1;32m> 11049\u001B[0m mat \u001B[38;5;241m=\u001B[39m \u001B[43mdata\u001B[49m\u001B[38;5;241;43m.\u001B[39;49m\u001B[43mto_numpy\u001B[49m\u001B[43m(\u001B[49m\u001B[43mdtype\u001B[49m\u001B[38;5;241;43m=\u001B[39;49m\u001B[38;5;28;43mfloat\u001B[39;49m\u001B[43m,\u001B[49m\u001B[43m \u001B[49m\u001B[43mna_value\u001B[49m\u001B[38;5;241;43m=\u001B[39;49m\u001B[43mnp\u001B[49m\u001B[38;5;241;43m.\u001B[39;49m\u001B[43mnan\u001B[49m\u001B[43m,\u001B[49m\u001B[43m \u001B[49m\u001B[43mcopy\u001B[49m\u001B[38;5;241;43m=\u001B[39;49m\u001B[38;5;28;43;01mFalse\u001B[39;49;00m\u001B[43m)\u001B[49m\n\u001B[0;32m  11051\u001B[0m \u001B[38;5;28;01mif\u001B[39;00m method \u001B[38;5;241m==\u001B[39m \u001B[38;5;124m\"\u001B[39m\u001B[38;5;124mpearson\u001B[39m\u001B[38;5;124m\"\u001B[39m:\n\u001B[0;32m  11052\u001B[0m     correl \u001B[38;5;241m=\u001B[39m libalgos\u001B[38;5;241m.\u001B[39mnancorr(mat, minp\u001B[38;5;241m=\u001B[39mmin_periods)\n",
      "File \u001B[1;32m~\\AppData\\Local\\Packages\\PythonSoftwareFoundation.Python.3.12_qbz5n2kfra8p0\\LocalCache\\local-packages\\Python312\\site-packages\\pandas\\core\\frame.py:1993\u001B[0m, in \u001B[0;36mDataFrame.to_numpy\u001B[1;34m(self, dtype, copy, na_value)\u001B[0m\n\u001B[0;32m   1991\u001B[0m \u001B[38;5;28;01mif\u001B[39;00m dtype \u001B[38;5;129;01mis\u001B[39;00m \u001B[38;5;129;01mnot\u001B[39;00m \u001B[38;5;28;01mNone\u001B[39;00m:\n\u001B[0;32m   1992\u001B[0m     dtype \u001B[38;5;241m=\u001B[39m np\u001B[38;5;241m.\u001B[39mdtype(dtype)\n\u001B[1;32m-> 1993\u001B[0m result \u001B[38;5;241m=\u001B[39m \u001B[38;5;28;43mself\u001B[39;49m\u001B[38;5;241;43m.\u001B[39;49m\u001B[43m_mgr\u001B[49m\u001B[38;5;241;43m.\u001B[39;49m\u001B[43mas_array\u001B[49m\u001B[43m(\u001B[49m\u001B[43mdtype\u001B[49m\u001B[38;5;241;43m=\u001B[39;49m\u001B[43mdtype\u001B[49m\u001B[43m,\u001B[49m\u001B[43m \u001B[49m\u001B[43mcopy\u001B[49m\u001B[38;5;241;43m=\u001B[39;49m\u001B[43mcopy\u001B[49m\u001B[43m,\u001B[49m\u001B[43m \u001B[49m\u001B[43mna_value\u001B[49m\u001B[38;5;241;43m=\u001B[39;49m\u001B[43mna_value\u001B[49m\u001B[43m)\u001B[49m\n\u001B[0;32m   1994\u001B[0m \u001B[38;5;28;01mif\u001B[39;00m result\u001B[38;5;241m.\u001B[39mdtype \u001B[38;5;129;01mis\u001B[39;00m \u001B[38;5;129;01mnot\u001B[39;00m dtype:\n\u001B[0;32m   1995\u001B[0m     result \u001B[38;5;241m=\u001B[39m np\u001B[38;5;241m.\u001B[39masarray(result, dtype\u001B[38;5;241m=\u001B[39mdtype)\n",
      "File \u001B[1;32m~\\AppData\\Local\\Packages\\PythonSoftwareFoundation.Python.3.12_qbz5n2kfra8p0\\LocalCache\\local-packages\\Python312\\site-packages\\pandas\\core\\internals\\managers.py:1694\u001B[0m, in \u001B[0;36mBlockManager.as_array\u001B[1;34m(self, dtype, copy, na_value)\u001B[0m\n\u001B[0;32m   1692\u001B[0m         arr\u001B[38;5;241m.\u001B[39mflags\u001B[38;5;241m.\u001B[39mwriteable \u001B[38;5;241m=\u001B[39m \u001B[38;5;28;01mFalse\u001B[39;00m\n\u001B[0;32m   1693\u001B[0m \u001B[38;5;28;01melse\u001B[39;00m:\n\u001B[1;32m-> 1694\u001B[0m     arr \u001B[38;5;241m=\u001B[39m \u001B[38;5;28;43mself\u001B[39;49m\u001B[38;5;241;43m.\u001B[39;49m\u001B[43m_interleave\u001B[49m\u001B[43m(\u001B[49m\u001B[43mdtype\u001B[49m\u001B[38;5;241;43m=\u001B[39;49m\u001B[43mdtype\u001B[49m\u001B[43m,\u001B[49m\u001B[43m \u001B[49m\u001B[43mna_value\u001B[49m\u001B[38;5;241;43m=\u001B[39;49m\u001B[43mna_value\u001B[49m\u001B[43m)\u001B[49m\n\u001B[0;32m   1695\u001B[0m     \u001B[38;5;66;03m# The underlying data was copied within _interleave, so no need\u001B[39;00m\n\u001B[0;32m   1696\u001B[0m     \u001B[38;5;66;03m# to further copy if copy=True or setting na_value\u001B[39;00m\n\u001B[0;32m   1698\u001B[0m \u001B[38;5;28;01mif\u001B[39;00m na_value \u001B[38;5;129;01mis\u001B[39;00m lib\u001B[38;5;241m.\u001B[39mno_default:\n",
      "File \u001B[1;32m~\\AppData\\Local\\Packages\\PythonSoftwareFoundation.Python.3.12_qbz5n2kfra8p0\\LocalCache\\local-packages\\Python312\\site-packages\\pandas\\core\\internals\\managers.py:1753\u001B[0m, in \u001B[0;36mBlockManager._interleave\u001B[1;34m(self, dtype, na_value)\u001B[0m\n\u001B[0;32m   1751\u001B[0m     \u001B[38;5;28;01melse\u001B[39;00m:\n\u001B[0;32m   1752\u001B[0m         arr \u001B[38;5;241m=\u001B[39m blk\u001B[38;5;241m.\u001B[39mget_values(dtype)\n\u001B[1;32m-> 1753\u001B[0m     \u001B[43mresult\u001B[49m\u001B[43m[\u001B[49m\u001B[43mrl\u001B[49m\u001B[38;5;241;43m.\u001B[39;49m\u001B[43mindexer\u001B[49m\u001B[43m]\u001B[49m \u001B[38;5;241m=\u001B[39m arr\n\u001B[0;32m   1754\u001B[0m     itemmask[rl\u001B[38;5;241m.\u001B[39mindexer] \u001B[38;5;241m=\u001B[39m \u001B[38;5;241m1\u001B[39m\n\u001B[0;32m   1756\u001B[0m \u001B[38;5;28;01mif\u001B[39;00m \u001B[38;5;129;01mnot\u001B[39;00m itemmask\u001B[38;5;241m.\u001B[39mall():\n",
      "\u001B[1;31mValueError\u001B[0m: could not convert string to float: '广东'"
     ]
    }
   ],
   "source": [
    "import pandas as pd\n",
    "import matplotlib.pyplot as plt\n",
    "import seaborn as sns\n",
    "\n",
    "# 计算相关系数矩阵，包含了任意两个菜品间的相关系数\n",
    "print('相关系数矩阵为：\\n', data.corr())\n",
    "\n",
    "# 绘制相关性热力图\n",
    "plt.subplots(figsize=(8, 8))  # 设置画面大小 \n",
    "plt.rcParams['font.sans-serif'] = ['SimHei']  # 用来正常显示中文标签\n",
    "plt.rcParams['axes.unicode_minus'] = False  # 用来正常显示负号 \n",
    "sns.heatmap(data.corr(), annot=True, vmax=1, square=True, cmap=\"Blues\") \n",
    "plt.title('相关性热力图')\n",
    "plt.show()"
   ]
  },
  {
   "cell_type": "code",
   "execution_count": null,
   "id": "a8a31541",
   "metadata": {
    "ExecuteTime": {
     "end_time": "2024-05-10T09:14:18.291057200Z",
     "start_time": "2024-05-10T09:14:18.265685Z"
    }
   },
   "outputs": [],
   "source": [
    "data"
   ]
  },
  {
   "cell_type": "markdown",
   "id": "6867523b",
   "metadata": {},
   "source": [
    "回归"
   ]
  },
  {
   "cell_type": "code",
   "execution_count": null,
   "id": "f3d4dab4",
   "metadata": {
    "ExecuteTime": {
     "start_time": "2024-05-10T09:14:18.268677900Z"
    }
   },
   "outputs": [],
   "source": [
    "import numpy as np\n",
    "import pandas as pd\n",
    "import statsmodels.api as sm"
   ]
  },
  {
   "cell_type": "code",
   "execution_count": null,
   "id": "0ceb6f74",
   "metadata": {
    "ExecuteTime": {
     "start_time": "2024-05-10T09:14:18.270685200Z"
    }
   },
   "outputs": [],
   "source": [
    "data2=data.drop(labels=['时间'],axis=1)"
   ]
  },
  {
   "cell_type": "code",
   "execution_count": null,
   "id": "83ec1dce",
   "metadata": {
    "ExecuteTime": {
     "start_time": "2024-05-10T09:14:18.274014200Z"
    }
   },
   "outputs": [],
   "source": [
    "data2"
   ]
  },
  {
   "cell_type": "code",
   "execution_count": null,
   "id": "9bc80283",
   "metadata": {
    "ExecuteTime": {
     "start_time": "2024-05-10T09:14:18.276029600Z"
    }
   },
   "outputs": [],
   "source": [
    "data2.to_csv('./new.csv')"
   ]
  },
  {
   "cell_type": "markdown",
   "id": "0c2ce6b5",
   "metadata": {},
   "source": [
    "累计治愈"
   ]
  },
  {
   "cell_type": "code",
   "execution_count": null,
   "id": "90a7af90",
   "metadata": {
    "ExecuteTime": {
     "start_time": "2024-05-10T09:14:18.278005700Z"
    }
   },
   "outputs": [],
   "source": [
    "data3=pd.read_csv('./累计治愈.csv')"
   ]
  },
  {
   "cell_type": "code",
   "execution_count": null,
   "id": "a2f4c901",
   "metadata": {
    "ExecuteTime": {
     "start_time": "2024-05-10T09:14:18.280984500Z"
    }
   },
   "outputs": [],
   "source": [
    "data3"
   ]
  },
  {
   "cell_type": "code",
   "execution_count": null,
   "id": "b1ecb2fa",
   "metadata": {
    "ExecuteTime": {
     "start_time": "2024-05-10T09:14:18.283003700Z"
    }
   },
   "outputs": [],
   "source": [
    "# 分割自变量和目标变量\n",
    "X = data3.iloc[:, :-1]\n",
    "y = data3['累计治愈']"
   ]
  },
  {
   "cell_type": "code",
   "execution_count": null,
   "id": "37fd4f72",
   "metadata": {
    "ExecuteTime": {
     "start_time": "2024-05-10T09:14:18.285989500Z"
    }
   },
   "outputs": [],
   "source": [
    "from sklearn.model_selection import train_test_split\n",
    "# 划分训练集和测试集\n",
    "X_train, X_test, y_train, y_test = train_test_split(X, y, test_size=0.3)"
   ]
  },
  {
   "cell_type": "code",
   "execution_count": null,
   "id": "544068a8",
   "metadata": {
    "ExecuteTime": {
     "end_time": "2024-05-10T09:14:18.362040500Z",
     "start_time": "2024-05-10T09:14:18.292052700Z"
    }
   },
   "outputs": [],
   "source": [
    "from sklearn.ensemble import RandomForestRegressor\n",
    "# 训练模型\n",
    "rf = RandomForestRegressor(n_estimators=100, random_state=42)\n",
    "rf.fit(X_train, y_train)"
   ]
  },
  {
   "cell_type": "code",
   "execution_count": null,
   "id": "77d40c50",
   "metadata": {
    "ExecuteTime": {
     "start_time": "2024-05-10T09:14:18.293993200Z"
    }
   },
   "outputs": [],
   "source": [
    "# 预测结果\n",
    "y_pred = rf.predict(X_test)"
   ]
  },
  {
   "cell_type": "code",
   "execution_count": null,
   "id": "56e38273",
   "metadata": {
    "ExecuteTime": {
     "start_time": "2024-05-10T09:14:18.297982100Z"
    }
   },
   "outputs": [],
   "source": [
    "from sklearn.metrics import mean_squared_error, r2_score\n",
    "# 计算MSE和R-squared\n",
    "r2 = r2_score(y_test, y_pred)\n",
    " \n",
    "# 输出模型评估结果和目标方程\n",
    "print('R-squared:', r2)"
   ]
  },
  {
   "cell_type": "code",
   "execution_count": null,
   "id": "04669b3e",
   "metadata": {
    "ExecuteTime": {
     "start_time": "2024-05-10T09:14:18.302037800Z"
    }
   },
   "outputs": [],
   "source": [
    "# 输出目标方程\n",
    "print(\"目标方程：\")\n",
    "for i, feature in enumerate(X.columns):\n",
    "    print(\"{} * {} +\".format(rf.feature_importances_[i], feature), end=' ')"
   ]
  },
  {
   "cell_type": "code",
   "execution_count": null,
   "id": "330f914f",
   "metadata": {
    "ExecuteTime": {
     "start_time": "2024-05-10T09:14:18.305963200Z"
    }
   },
   "outputs": [],
   "source": [
    "import matplotlib.pyplot as plt\n",
    "# 绘制特征重要性条形图\n",
    "feature_importance = rf.feature_importances_\n",
    "feature_names = X.columns.tolist()\n",
    "sorted_idx = feature_importance.argsort()\n",
    "#避免中文乱码\n",
    "plt.rcParams['font.sans-serif'] = ['Microsoft YaHei']\n",
    "plt.rcParams['axes.unicode_minus'] = False\n",
    "plt.barh(range(len(feature_importance)), feature_importance[sorted_idx])\n",
    "plt.yticks(range(len(feature_importance)), [feature_names[i] for i in sorted_idx],fontsize=5)\n",
    "plt.xlabel('特征重要性')\n",
    "plt.ylabel('特征名称')\n",
    "plt.title('随机森林回归特征重要性')\n",
    "plt.savefig('随机森林回归特征重要性',dpi=300)"
   ]
  },
  {
   "cell_type": "markdown",
   "id": "b6c45f24",
   "metadata": {},
   "source": [
    "累计确诊"
   ]
  },
  {
   "cell_type": "code",
   "execution_count": null,
   "id": "edfcc96a",
   "metadata": {
    "ExecuteTime": {
     "start_time": "2024-05-10T09:14:18.307957800Z"
    }
   },
   "outputs": [],
   "source": [
    "data4=pd.read_csv('./累计确诊.csv')"
   ]
  },
  {
   "cell_type": "code",
   "execution_count": null,
   "id": "5d708cce",
   "metadata": {
    "ExecuteTime": {
     "start_time": "2024-05-10T09:14:18.309991600Z"
    }
   },
   "outputs": [],
   "source": [
    "data4"
   ]
  },
  {
   "cell_type": "code",
   "execution_count": null,
   "id": "7fb004df",
   "metadata": {
    "ExecuteTime": {
     "start_time": "2024-05-10T09:14:18.311943100Z"
    }
   },
   "outputs": [],
   "source": [
    "# 分割自变量和目标变量\n",
    "X = data4.iloc[:, :-1]\n",
    "y = data4['累计确诊']"
   ]
  },
  {
   "cell_type": "code",
   "execution_count": null,
   "id": "42501a30",
   "metadata": {
    "ExecuteTime": {
     "start_time": "2024-05-10T09:14:18.315478200Z"
    }
   },
   "outputs": [],
   "source": [
    "from sklearn.model_selection import train_test_split\n",
    "# 划分训练集和测试集\n",
    "X_train, X_test, y_train, y_test = train_test_split(X, y, test_size=0.3)"
   ]
  },
  {
   "cell_type": "code",
   "execution_count": null,
   "id": "fbf238bd",
   "metadata": {
    "ExecuteTime": {
     "start_time": "2024-05-10T09:14:18.318499800Z"
    }
   },
   "outputs": [],
   "source": [
    "from sklearn.ensemble import RandomForestRegressor\n",
    "# 训练模型\n",
    "rf = RandomForestRegressor(n_estimators=100, random_state=42)\n",
    "rf.fit(X_train, y_train)"
   ]
  },
  {
   "cell_type": "code",
   "execution_count": null,
   "id": "d2e410f6",
   "metadata": {
    "ExecuteTime": {
     "start_time": "2024-05-10T09:14:18.322483200Z"
    }
   },
   "outputs": [],
   "source": [
    "# 预测结果\n",
    "y_pred = rf.predict(X_test)"
   ]
  },
  {
   "cell_type": "code",
   "execution_count": null,
   "id": "b4682560",
   "metadata": {
    "ExecuteTime": {
     "start_time": "2024-05-10T09:14:18.324436100Z"
    }
   },
   "outputs": [],
   "source": [
    "from sklearn.metrics import mean_squared_error, r2_score\n",
    "# 计算MSE和R-squared\n",
    "r2 = r2_score(y_test, y_pred)\n",
    " \n",
    "# 输出模型评估结果和目标方程\n",
    "print('R-squared:', r2)"
   ]
  },
  {
   "cell_type": "code",
   "execution_count": null,
   "id": "f7ad8dbc",
   "metadata": {
    "ExecuteTime": {
     "start_time": "2024-05-10T09:14:18.325432200Z"
    }
   },
   "outputs": [],
   "source": [
    "# 输出目标方程\n",
    "print(\"目标方程：\")\n",
    "for i, feature in enumerate(X.columns):\n",
    "    print(\"{} * {} +\".format(rf.feature_importances_[i], feature), end=' ')"
   ]
  },
  {
   "cell_type": "code",
   "execution_count": null,
   "id": "8122d86e",
   "metadata": {
    "ExecuteTime": {
     "start_time": "2024-05-10T09:14:18.328437400Z"
    }
   },
   "outputs": [],
   "source": [
    "import matplotlib.pyplot as plt\n",
    "# 绘制特征重要性条形图\n",
    "feature_importance = rf.feature_importances_\n",
    "feature_names = X.columns.tolist()\n",
    "sorted_idx = feature_importance.argsort()\n",
    "#避免中文乱码\n",
    "plt.rcParams['font.sans-serif'] = ['Microsoft YaHei']\n",
    "plt.rcParams['axes.unicode_minus'] = False\n",
    "plt.barh(range(len(feature_importance)), feature_importance[sorted_idx])\n",
    "plt.yticks(range(len(feature_importance)), [feature_names[i] for i in sorted_idx],fontsize=5)\n",
    "plt.xlabel('特征重要性')\n",
    "plt.ylabel('特征名称')\n",
    "plt.title('随机森林回归特征重要性')\n",
    "plt.savefig('随机森林回归特征重要性',dpi=300)"
   ]
  },
  {
   "cell_type": "code",
   "execution_count": null,
   "id": "76b7487b",
   "metadata": {
    "ExecuteTime": {
     "start_time": "2024-05-10T09:14:18.331705500Z"
    }
   },
   "outputs": [],
   "source": []
  }
 ],
 "metadata": {
  "kernelspec": {
   "display_name": "Python 3 (ipykernel)",
   "language": "python",
   "name": "python3"
  },
  "language_info": {
   "codemirror_mode": {
    "name": "ipython",
    "version": 3
   },
   "file_extension": ".py",
   "mimetype": "text/x-python",
   "name": "python",
   "nbconvert_exporter": "python",
   "pygments_lexer": "ipython3",
   "version": "3.9.7"
  }
 },
 "nbformat": 4,
 "nbformat_minor": 5
}
