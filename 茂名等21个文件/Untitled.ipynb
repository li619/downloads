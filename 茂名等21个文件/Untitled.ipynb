{
 "cells": [
  {
   "cell_type": "code",
   "execution_count": 1,
   "id": "5785dba9",
   "metadata": {},
   "outputs": [],
   "source": [
    "import pandas as pd\n",
    "import numpy as np\n",
    "from matplotlib import pyplot\n",
    "import matplotlib.pyplot as plt\n",
    "\n",
    "# 设置中文字体\n",
    "plt.rcParams['font.family'] = 'SimHei'\n",
    "import seaborn as sns"
   ]
  },
  {
   "cell_type": "code",
   "execution_count": 24,
   "id": "b3b0d262",
   "metadata": {},
   "outputs": [],
   "source": [
    "df1=pd.read_csv('./东莞.csv')"
   ]
  },
  {
   "cell_type": "code",
   "execution_count": 25,
   "id": "9542ce39",
   "metadata": {},
   "outputs": [],
   "source": [
    "df2=pd.read_csv('./中山.csv')"
   ]
  },
  {
   "cell_type": "code",
   "execution_count": 26,
   "id": "51993db5",
   "metadata": {},
   "outputs": [],
   "source": [
    "df3=pd.read_csv('./云浮.csv')"
   ]
  },
  {
   "cell_type": "code",
   "execution_count": 27,
   "id": "f8964e7c",
   "metadata": {},
   "outputs": [],
   "source": [
    "df4=pd.read_csv('./佛山.csv')"
   ]
  },
  {
   "cell_type": "code",
   "execution_count": 28,
   "id": "43ff11a3",
   "metadata": {},
   "outputs": [],
   "source": [
    "df5=pd.read_csv('./广州.csv')"
   ]
  },
  {
   "cell_type": "code",
   "execution_count": 29,
   "id": "32fa478f",
   "metadata": {},
   "outputs": [],
   "source": [
    "df6=pd.read_csv('./惠州.csv')"
   ]
  },
  {
   "cell_type": "code",
   "execution_count": 30,
   "id": "19f01184",
   "metadata": {},
   "outputs": [],
   "source": [
    "df7=pd.read_csv('./揭阳.csv')"
   ]
  },
  {
   "cell_type": "code",
   "execution_count": 31,
   "id": "39d1944f",
   "metadata": {},
   "outputs": [],
   "source": [
    "df8=pd.read_csv('./梅州.csv')"
   ]
  },
  {
   "cell_type": "code",
   "execution_count": 32,
   "id": "6b4d11b2",
   "metadata": {},
   "outputs": [],
   "source": [
    "df9=pd.read_csv('./汕头.csv')"
   ]
  },
  {
   "cell_type": "code",
   "execution_count": 33,
   "id": "965ff80b",
   "metadata": {},
   "outputs": [],
   "source": [
    "df10=pd.read_csv('./汕尾.csv')"
   ]
  },
  {
   "cell_type": "code",
   "execution_count": 34,
   "id": "8ebef2a9",
   "metadata": {},
   "outputs": [],
   "source": [
    "df11=pd.read_csv('./江门.csv')"
   ]
  },
  {
   "cell_type": "code",
   "execution_count": 35,
   "id": "eb65f0cd",
   "metadata": {},
   "outputs": [],
   "source": [
    "df12=pd.read_csv('./河源.csv')"
   ]
  },
  {
   "cell_type": "code",
   "execution_count": 36,
   "id": "4855d88d",
   "metadata": {},
   "outputs": [],
   "source": [
    "df13=pd.read_csv('./深圳.csv')"
   ]
  },
  {
   "cell_type": "code",
   "execution_count": 37,
   "id": "69fa5324",
   "metadata": {},
   "outputs": [],
   "source": [
    "df14=pd.read_csv('./清远.csv')"
   ]
  },
  {
   "cell_type": "code",
   "execution_count": 38,
   "id": "d0878bd8",
   "metadata": {},
   "outputs": [],
   "source": [
    "df15=pd.read_csv('./湛江.csv')"
   ]
  },
  {
   "cell_type": "code",
   "execution_count": 39,
   "id": "4f71bb8b",
   "metadata": {},
   "outputs": [],
   "source": [
    "df16=pd.read_csv('./潮州.csv')"
   ]
  },
  {
   "cell_type": "code",
   "execution_count": 40,
   "id": "2856d7b6",
   "metadata": {},
   "outputs": [],
   "source": [
    "df17=pd.read_csv('./珠海.csv')"
   ]
  },
  {
   "cell_type": "code",
   "execution_count": 41,
   "id": "6a3e2886",
   "metadata": {},
   "outputs": [],
   "source": [
    "df18=pd.read_csv('./肇庆.csv')"
   ]
  },
  {
   "cell_type": "code",
   "execution_count": 42,
   "id": "7a641a2b",
   "metadata": {},
   "outputs": [],
   "source": [
    "df19=pd.read_csv('./茂名.csv')"
   ]
  },
  {
   "cell_type": "code",
   "execution_count": 43,
   "id": "b3876072",
   "metadata": {},
   "outputs": [],
   "source": [
    "df20=pd.read_csv('./阳江.csv')"
   ]
  },
  {
   "cell_type": "code",
   "execution_count": 44,
   "id": "f7b34a53",
   "metadata": {},
   "outputs": [],
   "source": [
    "df21=pd.read_csv('./韶关.csv')"
   ]
  },
  {
   "cell_type": "code",
   "execution_count": 45,
   "id": "e4c56990",
   "metadata": {},
   "outputs": [],
   "source": [
    "data=pd.concat([df1,df2,df3,df4,df5,df6,df7,df8,df9,df10],axis=0)"
   ]
  },
  {
   "cell_type": "code",
   "execution_count": 46,
   "id": "7dc051c1",
   "metadata": {},
   "outputs": [],
   "source": [
    "data1=pd.concat([df11,df12,df13,df14,df15,df16,df17,df18,df19,df20,df21],axis=0)"
   ]
  },
  {
   "cell_type": "code",
   "execution_count": 47,
   "id": "53d8272a",
   "metadata": {},
   "outputs": [],
   "source": [
    "data=pd.concat([data,data1],axis=0)"
   ]
  },
  {
   "cell_type": "code",
   "execution_count": 49,
   "id": "cbc8aa53",
   "metadata": {},
   "outputs": [],
   "source": [
    "data.to_csv('./综合.csv')"
   ]
  },
  {
   "cell_type": "code",
   "execution_count": 53,
   "id": "6a363180",
   "metadata": {},
   "outputs": [],
   "source": [
    "df=pd.read_csv('./new.csv')"
   ]
  },
  {
   "cell_type": "code",
   "execution_count": 54,
   "id": "b2ac249f",
   "metadata": {},
   "outputs": [
    {
     "data": {
      "text/html": [
       "<div>\n",
       "<style scoped>\n",
       "    .dataframe tbody tr th:only-of-type {\n",
       "        vertical-align: middle;\n",
       "    }\n",
       "\n",
       "    .dataframe tbody tr th {\n",
       "        vertical-align: top;\n",
       "    }\n",
       "\n",
       "    .dataframe thead th {\n",
       "        text-align: right;\n",
       "    }\n",
       "</style>\n",
       "<table border=\"1\" class=\"dataframe\">\n",
       "  <thead>\n",
       "    <tr style=\"text-align: right;\">\n",
       "      <th></th>\n",
       "      <th>城市</th>\n",
       "      <th>日期</th>\n",
       "      <th>累计确诊</th>\n",
       "    </tr>\n",
       "  </thead>\n",
       "  <tbody>\n",
       "    <tr>\n",
       "      <th>0</th>\n",
       "      <td>东莞</td>\n",
       "      <td>2022/12/17</td>\n",
       "      <td>940</td>\n",
       "    </tr>\n",
       "    <tr>\n",
       "      <th>1</th>\n",
       "      <td>东莞</td>\n",
       "      <td>2022/12/16</td>\n",
       "      <td>940</td>\n",
       "    </tr>\n",
       "    <tr>\n",
       "      <th>2</th>\n",
       "      <td>东莞</td>\n",
       "      <td>2022/12/15</td>\n",
       "      <td>940</td>\n",
       "    </tr>\n",
       "    <tr>\n",
       "      <th>3</th>\n",
       "      <td>东莞</td>\n",
       "      <td>2022/12/14</td>\n",
       "      <td>939</td>\n",
       "    </tr>\n",
       "    <tr>\n",
       "      <th>4</th>\n",
       "      <td>东莞</td>\n",
       "      <td>2022/12/13</td>\n",
       "      <td>911</td>\n",
       "    </tr>\n",
       "    <tr>\n",
       "      <th>...</th>\n",
       "      <td>...</td>\n",
       "      <td>...</td>\n",
       "      <td>...</td>\n",
       "    </tr>\n",
       "    <tr>\n",
       "      <th>21618</th>\n",
       "      <td>韶关</td>\n",
       "      <td>2020/1/27</td>\n",
       "      <td>4</td>\n",
       "    </tr>\n",
       "    <tr>\n",
       "      <th>21619</th>\n",
       "      <td>韶关</td>\n",
       "      <td>2020/1/26</td>\n",
       "      <td>4</td>\n",
       "    </tr>\n",
       "    <tr>\n",
       "      <th>21620</th>\n",
       "      <td>韶关</td>\n",
       "      <td>2020/1/25</td>\n",
       "      <td>3</td>\n",
       "    </tr>\n",
       "    <tr>\n",
       "      <th>21621</th>\n",
       "      <td>韶关</td>\n",
       "      <td>2020/1/24</td>\n",
       "      <td>3</td>\n",
       "    </tr>\n",
       "    <tr>\n",
       "      <th>21622</th>\n",
       "      <td>韶关</td>\n",
       "      <td>2020/1/23</td>\n",
       "      <td>3</td>\n",
       "    </tr>\n",
       "  </tbody>\n",
       "</table>\n",
       "<p>21623 rows × 3 columns</p>\n",
       "</div>"
      ],
      "text/plain": [
       "       城市          日期  累计确诊\n",
       "0      东莞  2022/12/17   940\n",
       "1      东莞  2022/12/16   940\n",
       "2      东莞  2022/12/15   940\n",
       "3      东莞  2022/12/14   939\n",
       "4      东莞  2022/12/13   911\n",
       "...    ..         ...   ...\n",
       "21618  韶关   2020/1/27     4\n",
       "21619  韶关   2020/1/26     4\n",
       "21620  韶关   2020/1/25     3\n",
       "21621  韶关   2020/1/24     3\n",
       "21622  韶关   2020/1/23     3\n",
       "\n",
       "[21623 rows x 3 columns]"
      ]
     },
     "execution_count": 54,
     "metadata": {},
     "output_type": "execute_result"
    }
   ],
   "source": [
    "df"
   ]
  },
  {
   "cell_type": "code",
   "execution_count": 55,
   "id": "4c2889c2",
   "metadata": {},
   "outputs": [
    {
     "name": "stdout",
     "output_type": "stream",
     "text": [
      "<class 'pandas.core.frame.DataFrame'>\n",
      "RangeIndex: 21623 entries, 0 to 21622\n",
      "Data columns (total 3 columns):\n",
      " #   Column  Non-Null Count  Dtype \n",
      "---  ------  --------------  ----- \n",
      " 0   城市      21623 non-null  object\n",
      " 1   日期      21623 non-null  object\n",
      " 2   累计确诊    21623 non-null  int64 \n",
      "dtypes: int64(1), object(2)\n",
      "memory usage: 506.9+ KB\n"
     ]
    }
   ],
   "source": [
    "df.info()"
   ]
  },
  {
   "cell_type": "markdown",
   "id": "200b3333",
   "metadata": {},
   "source": [
    "提取年月日"
   ]
  },
  {
   "cell_type": "code",
   "execution_count": 58,
   "id": "cfba7c0e",
   "metadata": {},
   "outputs": [],
   "source": [
    "import numpy as np\n",
    "import datetime\n",
    "df['日期']= pd.to_datetime(df['日期']) \n",
    "df['Year'] = df['日期'].dt.year \n",
    "df['Month'] = df['日期'].dt.month \n"
   ]
  },
  {
   "cell_type": "code",
   "execution_count": 59,
   "id": "f3f12a93",
   "metadata": {},
   "outputs": [
    {
     "data": {
      "text/html": [
       "<div>\n",
       "<style scoped>\n",
       "    .dataframe tbody tr th:only-of-type {\n",
       "        vertical-align: middle;\n",
       "    }\n",
       "\n",
       "    .dataframe tbody tr th {\n",
       "        vertical-align: top;\n",
       "    }\n",
       "\n",
       "    .dataframe thead th {\n",
       "        text-align: right;\n",
       "    }\n",
       "</style>\n",
       "<table border=\"1\" class=\"dataframe\">\n",
       "  <thead>\n",
       "    <tr style=\"text-align: right;\">\n",
       "      <th></th>\n",
       "      <th>城市</th>\n",
       "      <th>日期</th>\n",
       "      <th>累计确诊</th>\n",
       "      <th>Year</th>\n",
       "      <th>Month</th>\n",
       "    </tr>\n",
       "  </thead>\n",
       "  <tbody>\n",
       "    <tr>\n",
       "      <th>0</th>\n",
       "      <td>东莞</td>\n",
       "      <td>2022-12-17</td>\n",
       "      <td>940</td>\n",
       "      <td>2022</td>\n",
       "      <td>12</td>\n",
       "    </tr>\n",
       "    <tr>\n",
       "      <th>1</th>\n",
       "      <td>东莞</td>\n",
       "      <td>2022-12-16</td>\n",
       "      <td>940</td>\n",
       "      <td>2022</td>\n",
       "      <td>12</td>\n",
       "    </tr>\n",
       "    <tr>\n",
       "      <th>2</th>\n",
       "      <td>东莞</td>\n",
       "      <td>2022-12-15</td>\n",
       "      <td>940</td>\n",
       "      <td>2022</td>\n",
       "      <td>12</td>\n",
       "    </tr>\n",
       "    <tr>\n",
       "      <th>3</th>\n",
       "      <td>东莞</td>\n",
       "      <td>2022-12-14</td>\n",
       "      <td>939</td>\n",
       "      <td>2022</td>\n",
       "      <td>12</td>\n",
       "    </tr>\n",
       "    <tr>\n",
       "      <th>4</th>\n",
       "      <td>东莞</td>\n",
       "      <td>2022-12-13</td>\n",
       "      <td>911</td>\n",
       "      <td>2022</td>\n",
       "      <td>12</td>\n",
       "    </tr>\n",
       "    <tr>\n",
       "      <th>...</th>\n",
       "      <td>...</td>\n",
       "      <td>...</td>\n",
       "      <td>...</td>\n",
       "      <td>...</td>\n",
       "      <td>...</td>\n",
       "    </tr>\n",
       "    <tr>\n",
       "      <th>21618</th>\n",
       "      <td>韶关</td>\n",
       "      <td>2020-01-27</td>\n",
       "      <td>4</td>\n",
       "      <td>2020</td>\n",
       "      <td>1</td>\n",
       "    </tr>\n",
       "    <tr>\n",
       "      <th>21619</th>\n",
       "      <td>韶关</td>\n",
       "      <td>2020-01-26</td>\n",
       "      <td>4</td>\n",
       "      <td>2020</td>\n",
       "      <td>1</td>\n",
       "    </tr>\n",
       "    <tr>\n",
       "      <th>21620</th>\n",
       "      <td>韶关</td>\n",
       "      <td>2020-01-25</td>\n",
       "      <td>3</td>\n",
       "      <td>2020</td>\n",
       "      <td>1</td>\n",
       "    </tr>\n",
       "    <tr>\n",
       "      <th>21621</th>\n",
       "      <td>韶关</td>\n",
       "      <td>2020-01-24</td>\n",
       "      <td>3</td>\n",
       "      <td>2020</td>\n",
       "      <td>1</td>\n",
       "    </tr>\n",
       "    <tr>\n",
       "      <th>21622</th>\n",
       "      <td>韶关</td>\n",
       "      <td>2020-01-23</td>\n",
       "      <td>3</td>\n",
       "      <td>2020</td>\n",
       "      <td>1</td>\n",
       "    </tr>\n",
       "  </tbody>\n",
       "</table>\n",
       "<p>21623 rows × 5 columns</p>\n",
       "</div>"
      ],
      "text/plain": [
       "       城市         日期  累计确诊  Year  Month\n",
       "0      东莞 2022-12-17   940  2022     12\n",
       "1      东莞 2022-12-16   940  2022     12\n",
       "2      东莞 2022-12-15   940  2022     12\n",
       "3      东莞 2022-12-14   939  2022     12\n",
       "4      东莞 2022-12-13   911  2022     12\n",
       "...    ..        ...   ...   ...    ...\n",
       "21618  韶关 2020-01-27     4  2020      1\n",
       "21619  韶关 2020-01-26     4  2020      1\n",
       "21620  韶关 2020-01-25     3  2020      1\n",
       "21621  韶关 2020-01-24     3  2020      1\n",
       "21622  韶关 2020-01-23     3  2020      1\n",
       "\n",
       "[21623 rows x 5 columns]"
      ]
     },
     "execution_count": 59,
     "metadata": {},
     "output_type": "execute_result"
    }
   ],
   "source": [
    "df"
   ]
  },
  {
   "cell_type": "code",
   "execution_count": 60,
   "id": "a9b392b6",
   "metadata": {},
   "outputs": [],
   "source": [
    "df1=df[df['Year']==2020]"
   ]
  },
  {
   "cell_type": "code",
   "execution_count": 61,
   "id": "5935023d",
   "metadata": {},
   "outputs": [
    {
     "data": {
      "text/html": [
       "<div>\n",
       "<style scoped>\n",
       "    .dataframe tbody tr th:only-of-type {\n",
       "        vertical-align: middle;\n",
       "    }\n",
       "\n",
       "    .dataframe tbody tr th {\n",
       "        vertical-align: top;\n",
       "    }\n",
       "\n",
       "    .dataframe thead th {\n",
       "        text-align: right;\n",
       "    }\n",
       "</style>\n",
       "<table border=\"1\" class=\"dataframe\">\n",
       "  <thead>\n",
       "    <tr style=\"text-align: right;\">\n",
       "      <th></th>\n",
       "      <th>城市</th>\n",
       "      <th>日期</th>\n",
       "      <th>累计确诊</th>\n",
       "      <th>Year</th>\n",
       "      <th>Month</th>\n",
       "    </tr>\n",
       "  </thead>\n",
       "  <tbody>\n",
       "    <tr>\n",
       "      <th>716</th>\n",
       "      <td>东莞</td>\n",
       "      <td>2020-12-31</td>\n",
       "      <td>101</td>\n",
       "      <td>2020</td>\n",
       "      <td>12</td>\n",
       "    </tr>\n",
       "    <tr>\n",
       "      <th>717</th>\n",
       "      <td>东莞</td>\n",
       "      <td>2020-12-30</td>\n",
       "      <td>101</td>\n",
       "      <td>2020</td>\n",
       "      <td>12</td>\n",
       "    </tr>\n",
       "    <tr>\n",
       "      <th>718</th>\n",
       "      <td>东莞</td>\n",
       "      <td>2020-12-29</td>\n",
       "      <td>101</td>\n",
       "      <td>2020</td>\n",
       "      <td>12</td>\n",
       "    </tr>\n",
       "    <tr>\n",
       "      <th>719</th>\n",
       "      <td>东莞</td>\n",
       "      <td>2020-12-28</td>\n",
       "      <td>101</td>\n",
       "      <td>2020</td>\n",
       "      <td>12</td>\n",
       "    </tr>\n",
       "    <tr>\n",
       "      <th>720</th>\n",
       "      <td>东莞</td>\n",
       "      <td>2020-12-27</td>\n",
       "      <td>101</td>\n",
       "      <td>2020</td>\n",
       "      <td>12</td>\n",
       "    </tr>\n",
       "    <tr>\n",
       "      <th>...</th>\n",
       "      <td>...</td>\n",
       "      <td>...</td>\n",
       "      <td>...</td>\n",
       "      <td>...</td>\n",
       "      <td>...</td>\n",
       "    </tr>\n",
       "    <tr>\n",
       "      <th>21618</th>\n",
       "      <td>韶关</td>\n",
       "      <td>2020-01-27</td>\n",
       "      <td>4</td>\n",
       "      <td>2020</td>\n",
       "      <td>1</td>\n",
       "    </tr>\n",
       "    <tr>\n",
       "      <th>21619</th>\n",
       "      <td>韶关</td>\n",
       "      <td>2020-01-26</td>\n",
       "      <td>4</td>\n",
       "      <td>2020</td>\n",
       "      <td>1</td>\n",
       "    </tr>\n",
       "    <tr>\n",
       "      <th>21620</th>\n",
       "      <td>韶关</td>\n",
       "      <td>2020-01-25</td>\n",
       "      <td>3</td>\n",
       "      <td>2020</td>\n",
       "      <td>1</td>\n",
       "    </tr>\n",
       "    <tr>\n",
       "      <th>21621</th>\n",
       "      <td>韶关</td>\n",
       "      <td>2020-01-24</td>\n",
       "      <td>3</td>\n",
       "      <td>2020</td>\n",
       "      <td>1</td>\n",
       "    </tr>\n",
       "    <tr>\n",
       "      <th>21622</th>\n",
       "      <td>韶关</td>\n",
       "      <td>2020-01-23</td>\n",
       "      <td>3</td>\n",
       "      <td>2020</td>\n",
       "      <td>1</td>\n",
       "    </tr>\n",
       "  </tbody>\n",
       "</table>\n",
       "<p>6880 rows × 5 columns</p>\n",
       "</div>"
      ],
      "text/plain": [
       "       城市         日期  累计确诊  Year  Month\n",
       "716    东莞 2020-12-31   101  2020     12\n",
       "717    东莞 2020-12-30   101  2020     12\n",
       "718    东莞 2020-12-29   101  2020     12\n",
       "719    东莞 2020-12-28   101  2020     12\n",
       "720    东莞 2020-12-27   101  2020     12\n",
       "...    ..        ...   ...   ...    ...\n",
       "21618  韶关 2020-01-27     4  2020      1\n",
       "21619  韶关 2020-01-26     4  2020      1\n",
       "21620  韶关 2020-01-25     3  2020      1\n",
       "21621  韶关 2020-01-24     3  2020      1\n",
       "21622  韶关 2020-01-23     3  2020      1\n",
       "\n",
       "[6880 rows x 5 columns]"
      ]
     },
     "execution_count": 61,
     "metadata": {},
     "output_type": "execute_result"
    }
   ],
   "source": [
    "df1"
   ]
  },
  {
   "cell_type": "code",
   "execution_count": 62,
   "id": "cc8b0b6e",
   "metadata": {},
   "outputs": [],
   "source": [
    "df1_1=df[df['Month']==1]"
   ]
  },
  {
   "cell_type": "code",
   "execution_count": 63,
   "id": "c1c334cf",
   "metadata": {},
   "outputs": [],
   "source": [
    "df1_2=df[df['Month']==2]"
   ]
  },
  {
   "cell_type": "code",
   "execution_count": 64,
   "id": "4144d8fa",
   "metadata": {},
   "outputs": [],
   "source": [
    "df1_3=df[df['Month']==3]"
   ]
  },
  {
   "cell_type": "code",
   "execution_count": 65,
   "id": "8ffd29d3",
   "metadata": {},
   "outputs": [],
   "source": [
    "df1_4=df[df['Month']==4]"
   ]
  },
  {
   "cell_type": "code",
   "execution_count": 66,
   "id": "e4f524be",
   "metadata": {},
   "outputs": [],
   "source": [
    "df1_5=df[df['Month']==5]"
   ]
  },
  {
   "cell_type": "code",
   "execution_count": 67,
   "id": "74da9fa5",
   "metadata": {},
   "outputs": [],
   "source": [
    "df1_6=df[df['Month']==6]"
   ]
  },
  {
   "cell_type": "code",
   "execution_count": 68,
   "id": "8be32970",
   "metadata": {},
   "outputs": [],
   "source": [
    "df1_7=df[df['Month']==7]"
   ]
  },
  {
   "cell_type": "code",
   "execution_count": 69,
   "id": "09b2dd17",
   "metadata": {},
   "outputs": [],
   "source": [
    "df1_8=df[df['Month']==8]"
   ]
  },
  {
   "cell_type": "code",
   "execution_count": 74,
   "id": "6c137e90",
   "metadata": {},
   "outputs": [
    {
     "data": {
      "text/plain": [
       "Text(0, 0.5, '平均人次')"
      ]
     },
     "execution_count": 74,
     "metadata": {},
     "output_type": "execute_result"
    },
    {
     "data": {
      "image/png": "[encoded data removed]",
      "text/plain": [
       "<Figure size 1800x800 with 4 Axes>"
      ]
     },
     "metadata": {},
     "output_type": "display_data"
    }
   ],
   "source": [
    "fig, axes = plt.subplots(2, 2, figsize=(18, 8))\n",
    "\n",
    "month1 = df1_1.groupby('城市')['累计确诊'].mean().reset_index()\n",
    "sns.barplot(x='城市', y='累计确诊', data=month1, palette='viridis', ax=axes[0, 0])\n",
    "axes[0, 0].set_title('1月')\n",
    "axes[0, 0].set_xlabel('城市')\n",
    "axes[0, 0].set_ylabel('平均人次')\n",
    "\n",
    "month2 = df1_2.groupby('城市')['累计确诊'].mean().reset_index()\n",
    "sns.barplot(x='城市', y='累计确诊', data=month1, palette='viridis', ax=axes[0, 1])\n",
    "axes[0, 1].set_title('2月')\n",
    "axes[0, 1].set_xlabel('城市')\n",
    "axes[0, 1].set_ylabel('平均人次')\n",
    "\n",
    "month3 = df1_3.groupby('城市')['累计确诊'].mean().reset_index()\n",
    "sns.barplot(x='城市', y='累计确诊', data=month1, palette='viridis', ax=axes[1, 0])\n",
    "axes[1, 0].set_title('3月')\n",
    "axes[1, 0].set_xlabel('城市')\n",
    "axes[1, 0].set_ylabel('平均人次')\n",
    "\n",
    "month4 = df1_4.groupby('城市')['累计确诊'].mean().reset_index()\n",
    "sns.barplot(x='城市', y='累计确诊', data=month1, palette='viridis', ax=axes[1, 1])\n",
    "axes[1, 1].set_title('4月')\n",
    "axes[1, 1].set_xlabel('城市')\n",
    "axes[1, 1].set_ylabel('平均人次')\n"
   ]
  },
  {
   "cell_type": "code",
   "execution_count": 75,
   "id": "b3db4361",
   "metadata": {},
   "outputs": [
    {
     "data": {
      "text/plain": [
       "Text(0, 0.5, '平均人次')"
      ]
     },
     "execution_count": 75,
     "metadata": {},
     "output_type": "execute_result"
    },
    {
     "data": {
      "image/png": "[encoded data removed]",
      "text/plain": [
       "<Figure size 1800x800 with 4 Axes>"
      ]
     },
     "metadata": {},
     "output_type": "display_data"
    }
   ],
   "source": [
    "fig, axes = plt.subplots(2, 2, figsize=(18, 8))\n",
    "\n",
    "month5 = df1_5.groupby('城市')['累计确诊'].mean().reset_index()\n",
    "sns.barplot(x='城市', y='累计确诊', data=month1, palette='muted', ax=axes[0, 0])\n",
    "axes[0, 0].set_title('5月')\n",
    "axes[0, 0].set_xlabel('城市')\n",
    "axes[0, 0].set_ylabel('平均人次')\n",
    "\n",
    "month6 = df1_6.groupby('城市')['累计确诊'].mean().reset_index()\n",
    "sns.barplot(x='城市', y='累计确诊', data=month1, palette='muted', ax=axes[0, 1])\n",
    "axes[0, 1].set_title('6月')\n",
    "axes[0, 1].set_xlabel('城市')\n",
    "axes[0, 1].set_ylabel('平均人次')\n",
    "\n",
    "month7 = df1_7.groupby('城市')['累计确诊'].mean().reset_index()\n",
    "sns.barplot(x='城市', y='累计确诊', data=month1, palette='muted', ax=axes[1, 0])\n",
    "axes[1, 0].set_title('7月')\n",
    "axes[1, 0].set_xlabel('城市')\n",
    "axes[1, 0].set_ylabel('平均人次')\n",
    "\n",
    "month8 = df1_8.groupby('城市')['累计确诊'].mean().reset_index()\n",
    "sns.barplot(x='城市', y='累计确诊', data=month1, palette='muted', ax=axes[1, 1])\n",
    "axes[1, 1].set_title('8月')\n",
    "axes[1, 1].set_xlabel('城市')\n",
    "axes[1, 1].set_ylabel('平均人次')\n"
   ]
  },
  {
   "cell_type": "code",
   "execution_count": null,
   "id": "841b5a85",
   "metadata": {},
   "outputs": [],
   "source": []
  }
 ],
 "metadata": {
  "kernelspec": {
   "display_name": "Python 3 (ipykernel)",
   "language": "python",
   "name": "python3"
  },
  "language_info": {
   "codemirror_mode": {
    "name": "ipython",
    "version": 3
   },
   "file_extension": ".py",
   "mimetype": "text/x-python",
   "name": "python",
   "nbconvert_exporter": "python",
   "pygments_lexer": "ipython3",
   "version": "3.9.7"
  }
 },
 "nbformat": 4,
 "nbformat_minor": 5
}
